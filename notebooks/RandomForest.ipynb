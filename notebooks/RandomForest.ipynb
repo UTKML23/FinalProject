{
 "cells": [
  {
   "cell_type": "markdown",
   "id": "a378d3d7-cf3b-49a7-a696-770687f3d8b0",
   "metadata": {},
   "source": [
    "# Data Loading"
   ]
  },
  {
   "cell_type": "code",
   "execution_count": 2,
   "id": "0ca273b3-48d9-4a92-8ea0-b2b409a72b87",
   "metadata": {},
   "outputs": [],
   "source": [
    "import pandas as pd\n",
    "\n",
    "df = pd.read_json('../data/trimmed_games.json')"
   ]
  },
  {
   "cell_type": "markdown",
   "id": "0f20b599-74f4-49c9-8eca-46932c848c38",
   "metadata": {},
   "source": [
    "# Data Filtering"
   ]
  },
  {
   "cell_type": "code",
   "execution_count": 3,
   "id": "4e32c0f6-00c2-4813-947d-86bd4cdbe7ac",
   "metadata": {},
   "outputs": [],
   "source": [
    "# change game_won to int\n",
    "df['game_won'] = df['game_won'].astype(int)\n",
    "\n",
    "offense_columns = [\n",
    "    'game_won',\n",
    "    'passing_attempts',\n",
    "    'passing_completions',\n",
    "    'passing_yards',\n",
    "    'passing_rating',\n",
    "    'passing_touchdowns',\n",
    "    'passing_interceptions',\n",
    "    'passing_sacks',\n",
    "    'passing_sacks_yards_lost',\n",
    "    'rushing_attempts',\n",
    "    'rushing_yards',\n",
    "    'rushing_touchdowns',\n",
    "    'receiving_targets',\n",
    "    'receiving_receptions',\n",
    "    'receiving_yards',\n",
    "    'receiving_touchdowns'\n",
    "]\n",
    "\n",
    "defense_columns = [\n",
    "    'game_won',\n",
    "    'defense_sacks',\n",
    "    'defense_tackles',\n",
    "    'defense_tackle_assists',\n",
    "    'defense_interceptions',\n",
    "    'defense_interception_yards',\n",
    "    'defense_interception_touchdowns',\n",
    "    'defense_safeties'\n",
    "]\n",
    "\n",
    "# Filter down to offense_columns\n",
    "offense = df[offense_columns]\n",
    "defense = df[defense_columns]\n",
    "\n",
    "# Drop bad rows\n",
    "offense = offense.dropna()\n",
    "defense = defense.dropna()\n",
    "\n",
    "# Grab y values from 'games_won' and drop it from our DataFrame.\n",
    "y_offense = offense['game_won'].values\n",
    "offense = offense.drop('game_won', axis=1)\n",
    "\n",
    "y_defense = defense['game_won'].values\n",
    "defense = defense.drop('game_won', axis=1)"
   ]
  },
  {
   "cell_type": "markdown",
   "id": "be41e409-0d10-4946-ad57-a9a2e6cd8d83",
   "metadata": {},
   "source": [
    "# RandomForest"
   ]
  },
  {
   "cell_type": "code",
   "execution_count": 38,
   "id": "3decddee-28d3-46d9-b3d4-feaa8c37260c",
   "metadata": {},
   "outputs": [
    {
     "name": "stdout",
     "output_type": "stream",
     "text": [
      "Offense:\n",
      "Train Accuracy: 0.5622778169408248\n",
      "Test Accuracy: 0.5149215800174267\n",
      "Decision Tree\n",
      "Train Accuracy: 0.5234610183131787\n",
      "Test Accuracy: 0.5157445057604803\n",
      "Defense:\n",
      "Train Accuracy: 0.5179183546276098\n",
      "Test Accuracy: 0.5175597831348631\n",
      "Decision Tree\n",
      "Train Accuracy: 0.516611350963764\n",
      "Test Accuracy: 0.5182374866879659\n"
     ]
    }
   ],
   "source": [
    "from sklearn.model_selection import train_test_split\n",
    "from sklearn.ensemble import RandomForestClassifier\n",
    "from sklearn.metrics import accuracy_score\n",
    "import numpy as np\n",
    "from sklearn import tree\n",
    "\n",
    "# Helper function to run RandomForest on a data.\n",
    "def RF(X, y):\n",
    "    # Split the data into training and testing sets\n",
    "    X_train, X_test, y_train, y_test = train_test_split(X, y, test_size=0.2, random_state=10)\n",
    "    \n",
    "    # Create a Random Forest Classifier\n",
    "    rf_classifier = RandomForestClassifier(random_state=10)\n",
    "\n",
    "    clf = tree.DecisionTreeClassifier(criterion='entropy', max_depth=11)\n",
    "    clf.fit(X_train, y_train)\n",
    "    \n",
    "    # Train the classifier on the training data\n",
    "    rf_classifier.fit(X_train, y_train)\n",
    "    \n",
    "    # Make predictions on the train data\n",
    "    train_pred = rf_classifier.predict(X_train)\n",
    "    \n",
    "    # Make predictions on the test data\n",
    "    y_pred = rf_classifier.predict(X_test)\n",
    "\n",
    "    dt_train_pred = clf.predict(X_train)\n",
    "    dt_test_pred = clf.predict(X_test)\n",
    "    \n",
    "    # Evaluate the accuracy of the model\n",
    "    accuracy = accuracy_score(y_train, train_pred)\n",
    "    print(f\"Train Accuracy: {accuracy}\")\n",
    "    \n",
    "    # Evaluate the accuracy of the model\n",
    "    accuracy = accuracy_score(y_test, y_pred)\n",
    "    print(f\"Test Accuracy: {accuracy}\")\n",
    "\n",
    "    print(\"Decision Tree\")\n",
    "    # Evaluate the accuracy of the model\n",
    "    accuracy = accuracy_score(y_train, dt_train_pred)\n",
    "    print(f\"Train Accuracy: {accuracy}\")\n",
    "    \n",
    "    # Evaluate the accuracy of the model\n",
    "    accuracy = accuracy_score(y_test, dt_test_pred)\n",
    "    print(f\"Test Accuracy: {accuracy}\")\n",
    "\n",
    "print(\"Offense:\")\n",
    "RF(offense.to_numpy(), y_offense)\n",
    "\n",
    "print(\"Defense:\")\n",
    "RF(defense.to_numpy(), y_defense)"
   ]
  },
  {
   "cell_type": "markdown",
   "id": "ef2463de-01a2-4626-9f73-77dfb98142c3",
   "metadata": {},
   "source": [
    "# Hyperparameter Testing"
   ]
  },
  {
   "cell_type": "code",
   "execution_count": 8,
   "id": "6f3a36dc-9568-44fe-a28a-ce5a98fc5e49",
   "metadata": {},
   "outputs": [
    {
     "name": "stdout",
     "output_type": "stream",
     "text": [
      "Offense:\n"
     ]
    },
    {
     "name": "stderr",
     "output_type": "stream",
     "text": [
      "/Users/noah/cs425-env/lib/python3.11/site-packages/joblib/externals/loky/process_executor.py:752: UserWarning: A worker stopped while some jobs were given to the executor. This can be caused by a too short worker timeout or by a memory leak.\n",
      "  warnings.warn(\n"
     ]
    },
    {
     "name": "stdout",
     "output_type": "stream",
     "text": [
      "Best Hyperparameters: {'max_depth': None, 'max_leaf_nodes': 128, 'n_estimators': 500}\n",
      "Train Accuracy: 0.5245441370901621\n",
      "Test Accuracy: 0.5178260238164392\n",
      "Defense:\n",
      "Best Hyperparameters: {'max_depth': 10, 'max_leaf_nodes': None, 'n_estimators': 500}\n",
      "Train Accuracy: 0.516511510406109\n",
      "Test Accuracy: 0.5184674218220544\n"
     ]
    }
   ],
   "source": [
    "from sklearn.model_selection import GridSearchCV\n",
    "\n",
    "# Helper function to perform hyperparameter tuning on RandomForest\n",
    "def tune_RF(X, y):\n",
    "    # Split the data into training and testing sets\n",
    "    X_train, X_test, y_train, y_test = train_test_split(X, y, test_size=0.2, random_state=10)\n",
    "\n",
    "    # Create a Random Forest Classifier\n",
    "    rf_classifier = RandomForestClassifier(random_state=10)\n",
    "\n",
    "    # Define the hyperparameters and their possible values\n",
    "    param_grid = {\n",
    "        'n_estimators': [50, 100, 200, 500],\n",
    "        'max_depth': [None, 10, 20, 50, 100, 200],\n",
    "        'max_leaf_nodes': [None, 2, 8, 16, 64, 128]\n",
    "    }\n",
    "\n",
    "    # Use GridSearchCV to find the best combination of hyperparameters\n",
    "    grid_search = GridSearchCV(estimator=rf_classifier, param_grid=param_grid, cv=3, scoring='accuracy', n_jobs=-1)\n",
    "    grid_search.fit(X_train, y_train)\n",
    "\n",
    "    # Get the best hyperparameters\n",
    "    best_params = grid_search.best_params_\n",
    "    print(f\"Best Hyperparameters: {best_params}\")\n",
    "\n",
    "    # Train the classifier with the best hyperparameters on the training data\n",
    "    best_rf_classifier = RandomForestClassifier(**best_params, random_state=10)\n",
    "    best_rf_classifier.fit(X_train, y_train)\n",
    "\n",
    "    # Make predictions on the train data\n",
    "    train_pred = best_rf_classifier.predict(X_train)\n",
    "\n",
    "    # Make predictions on the test data\n",
    "    y_pred = best_rf_classifier.predict(X_test)\n",
    "\n",
    "    # Evaluate the accuracy of the model\n",
    "    accuracy_train = accuracy_score(y_train, train_pred)\n",
    "    print(f\"Train Accuracy: {accuracy_train}\")\n",
    "\n",
    "    # Evaluate the accuracy of the model on the test data\n",
    "    accuracy_test = accuracy_score(y_test, y_pred)\n",
    "    print(f\"Test Accuracy: {accuracy_test}\")\n",
    "\n",
    "# Example usage:\n",
    "print(\"Offense:\")\n",
    "tune_RF(offense.to_numpy(), y_offense)\n",
    "\n",
    "print(\"Defense:\")\n",
    "tune_RF(defense.to_numpy(), y_defense)"
   ]
  },
  {
   "cell_type": "markdown",
   "id": "7e3c820e-7b52-476f-80ba-59ff60eee33d",
   "metadata": {},
   "source": [
    "# Offense Model with Hyperparameters"
   ]
  },
  {
   "cell_type": "code",
   "execution_count": 7,
   "id": "e4997f81-a269-4e6f-8beb-eb3ceac1b370",
   "metadata": {},
   "outputs": [
    {
     "name": "stdout",
     "output_type": "stream",
     "text": [
      "Train Accuracy: 0.5245441370901621\n",
      "Test Accuracy: 0.5178260238164392\n"
     ]
    }
   ],
   "source": [
    "# Split the data into training and testing sets\n",
    "X_train, X_test, y_train, y_test = train_test_split(offense.to_numpy(), y_offense, test_size=0.2, random_state=10)\n",
    "\n",
    "# These params are based off the hyperparam. testing above\n",
    "off_rf = RandomForestClassifier(max_depth=None, max_leaf_nodes=128, n_estimators=500, random_state=10)\n",
    "off_rf.fit(X_train, y_train)\n",
    "\n",
    "# Make predictions on the train data\n",
    "train_pred = off_rf.predict(X_train)\n",
    "\n",
    "# Make predictions on the test data\n",
    "y_pred = off_rf.predict(X_test)\n",
    "\n",
    "# Evaluate the accuracy of the model\n",
    "accuracy = accuracy_score(y_train, train_pred)\n",
    "print(f\"Train Accuracy: {accuracy}\")\n",
    "\n",
    "# Evaluate the accuracy of the model\n",
    "accuracy = accuracy_score(y_test, y_pred)\n",
    "print(f\"Test Accuracy: {accuracy}\")\n",
    "\n"
   ]
  },
  {
   "cell_type": "markdown",
   "id": "7e9b76cf-6615-4cff-a78a-bba525c4da2c",
   "metadata": {},
   "source": [
    "# Defense Model with Hyperparameters"
   ]
  },
  {
   "cell_type": "code",
   "execution_count": 9,
   "id": "d4b64a4e-a2f8-49d5-9d32-ee2b886fbf79",
   "metadata": {},
   "outputs": [
    {
     "name": "stdout",
     "output_type": "stream",
     "text": [
      "Train Accuracy: 0.5161938359044799\n",
      "Test Accuracy: 0.5186610514086553\n"
     ]
    }
   ],
   "source": [
    "# Split the data into training and testing sets\n",
    "X_train, X_test, y_train, y_test = train_test_split(defense.to_numpy(), y_defense, test_size=0.2, random_state=10)\n",
    "\n",
    "# These params are based off the hyperparam. testing above\n",
    "def_rf = RandomForestClassifier(max_depth=None, max_leaf_nodes=128, n_estimators=500, random_state=10)\n",
    "def_rf.fit(X_train, y_train)\n",
    "\n",
    "# Make predictions on the train data\n",
    "train_pred = def_rf.predict(X_train)\n",
    "\n",
    "# Make predictions on the test data\n",
    "y_pred = def_rf.predict(X_test)\n",
    "\n",
    "# Evaluate the accuracy of the model\n",
    "accuracy = accuracy_score(y_train, train_pred)\n",
    "print(f\"Train Accuracy: {accuracy}\")\n",
    "\n",
    "# Evaluate the accuracy of the model\n",
    "accuracy = accuracy_score(y_test, y_pred)\n",
    "print(f\"Test Accuracy: {accuracy}\")\n",
    "\n"
   ]
  },
  {
   "cell_type": "code",
   "execution_count": null,
   "id": "12a3813f-95a4-4186-89d9-14652c397922",
   "metadata": {},
   "outputs": [],
   "source": []
  }
 ],
 "metadata": {
  "kernelspec": {
   "display_name": "Python 3 (ipykernel)",
   "language": "python",
   "name": "python3"
  },
  "language_info": {
   "codemirror_mode": {
    "name": "ipython",
    "version": 3
   },
   "file_extension": ".py",
   "mimetype": "text/x-python",
   "name": "python",
   "nbconvert_exporter": "python",
   "pygments_lexer": "ipython3",
   "version": "3.11.6"
  }
 },
 "nbformat": 4,
 "nbformat_minor": 5
}
