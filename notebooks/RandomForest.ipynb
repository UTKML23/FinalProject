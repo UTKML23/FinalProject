{
 "cells": [
  {
   "cell_type": "markdown",
   "id": "a378d3d7-cf3b-49a7-a696-770687f3d8b0",
   "metadata": {},
   "source": [
    "# Data Loading"
   ]
  },
  {
   "cell_type": "code",
   "execution_count": 10,
   "id": "0ca273b3-48d9-4a92-8ea0-b2b409a72b87",
   "metadata": {},
   "outputs": [],
   "source": [
    "import pandas as pd\n",
    "\n",
    "df = pd.read_json('../data/trimmed_games.json')"
   ]
  },
  {
   "cell_type": "markdown",
   "id": "0f20b599-74f4-49c9-8eca-46932c848c38",
   "metadata": {},
   "source": [
    "# Data Filtering"
   ]
  },
  {
   "cell_type": "code",
   "execution_count": 43,
   "id": "4e32c0f6-00c2-4813-947d-86bd4cdbe7ac",
   "metadata": {},
   "outputs": [
    {
     "name": "stdout",
     "output_type": "stream",
     "text": [
      "Index(['passing_attempts', 'passing_completions', 'passing_yards',\n",
      "       'passing_rating', 'passing_touchdowns', 'passing_interceptions',\n",
      "       'passing_sacks', 'passing_sacks_yards_lost', 'rushing_attempts',\n",
      "       'rushing_yards', 'rushing_touchdowns', 'receiving_targets',\n",
      "       'receiving_receptions', 'receiving_yards', 'receiving_touchdowns'],\n",
      "      dtype='object')\n"
     ]
    }
   ],
   "source": [
    "offense_columns = [\n",
    "    'game_won',\n",
    "    'passing_attempts',\n",
    "    'passing_completions',\n",
    "    'passing_yards',\n",
    "    'passing_rating',\n",
    "    'passing_touchdowns',\n",
    "    'passing_interceptions',\n",
    "    'passing_sacks',\n",
    "    'passing_sacks_yards_lost',\n",
    "    'rushing_attempts',\n",
    "    'rushing_yards',\n",
    "    'rushing_touchdowns',\n",
    "    'receiving_targets',\n",
    "    'receiving_receptions',\n",
    "    'receiving_yards',\n",
    "    'receiving_touchdowns'\n",
    "]\n",
    "\n",
    "# Filter down to offense_columns\n",
    "offense = df[offense_columns]\n",
    "\n",
    "# Drop bad rows\n",
    "offense = offense.dropna()\n",
    "\n",
    "# Convert game_won to 0 or 1\n",
    "offense['game_won'] = offense['game_won'].astype(int)\n",
    "\n",
    "# Grab y values from 'games_won' and drop it from our DataFrame.\n",
    "y = offense['game_won'].values\n",
    "\n",
    "offense = offense.drop('game_won', axis=1)\n",
    "\n",
    "print(offense.columns)"
   ]
  },
  {
   "cell_type": "markdown",
   "id": "be41e409-0d10-4946-ad57-a9a2e6cd8d83",
   "metadata": {},
   "source": [
    "# ML Model"
   ]
  },
  {
   "cell_type": "code",
   "execution_count": 45,
   "id": "3decddee-28d3-46d9-b3d4-feaa8c37260c",
   "metadata": {},
   "outputs": [
    {
     "name": "stdout",
     "output_type": "stream",
     "text": [
      "(413159, 15)\n",
      "(413159,)\n",
      "[1 0 1 ... 1 1 1]\n",
      "[1 0 1 ... 1 0 0]\n",
      "Train Accuracy: 0.5622778169408248\n",
      "Test Accuracy: 0.5149215800174267\n"
     ]
    }
   ],
   "source": [
    "from sklearn.model_selection import train_test_split\n",
    "from sklearn.ensemble import RandomForestClassifier\n",
    "from sklearn.metrics import accuracy_score\n",
    "import numpy as np\n",
    "\n",
    "# Get X\n",
    "features = offense.columns\n",
    "X = offense.to_numpy()\n",
    "\n",
    "print(X.shape)\n",
    "print(y.shape)\n",
    "\n",
    "# Split the data into training and testing sets\n",
    "X_train, X_test, y_train, y_test = train_test_split(X, y, test_size=0.2, random_state=10)\n",
    "\n",
    "# Create a Random Forest Classifier\n",
    "rf_classifier = RandomForestClassifier(random_state=10)\n",
    "\n",
    "# Train the classifier on the training data\n",
    "rf_classifier.fit(X_train, y_train)\n",
    "\n",
    "# Make predictions on the train data\n",
    "train_pred = rf_classifier.predict(X_train)\n",
    "\n",
    "# Make predictions on the test data\n",
    "y_pred = rf_classifier.predict(X_test)\n",
    "\n",
    "print(y_pred)\n",
    "print(y_test)\n",
    "\n",
    "# Evaluate the accuracy of the model\n",
    "accuracy = accuracy_score(y_train, train_pred)\n",
    "print(f\"Train Accuracy: {accuracy}\")\n",
    "\n",
    "# Evaluate the accuracy of the model\n",
    "accuracy = accuracy_score(y_test, y_pred)\n",
    "print(f\"Test Accuracy: {accuracy}\")"
   ]
  },
  {
   "cell_type": "code",
   "execution_count": null,
   "id": "3ac6b2eb-eb2f-4971-82aa-ae20948d9789",
   "metadata": {},
   "outputs": [],
   "source": []
  }
 ],
 "metadata": {
  "kernelspec": {
   "display_name": "Python 3 (ipykernel)",
   "language": "python",
   "name": "python3"
  },
  "language_info": {
   "codemirror_mode": {
    "name": "ipython",
    "version": 3
   },
   "file_extension": ".py",
   "mimetype": "text/x-python",
   "name": "python",
   "nbconvert_exporter": "python",
   "pygments_lexer": "ipython3",
   "version": "3.11.6"
  }
 },
 "nbformat": 4,
 "nbformat_minor": 5
}
