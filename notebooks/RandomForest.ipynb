{
 "cells": [
  {
   "cell_type": "markdown",
   "id": "a378d3d7-cf3b-49a7-a696-770687f3d8b0",
   "metadata": {},
   "source": [
    "# Data Loading"
   ]
  },
  {
   "cell_type": "code",
   "execution_count": 59,
   "id": "0ca273b3-48d9-4a92-8ea0-b2b409a72b87",
   "metadata": {},
   "outputs": [],
   "source": [
    "import pandas as pd\n",
    "\n",
    "game_df = pd.read_json('../data/trimmed_games.json')"
   ]
  },
  {
   "cell_type": "markdown",
   "id": "0f20b599-74f4-49c9-8eca-46932c848c38",
   "metadata": {},
   "source": [
    "# Data Filtering"
   ]
  },
  {
   "cell_type": "code",
   "execution_count": 60,
   "id": "4e32c0f6-00c2-4813-947d-86bd4cdbe7ac",
   "metadata": {},
   "outputs": [],
   "source": [
    "# trim game_df\n",
    "bad_cols = [\"age\", \"date\", \"year\", \"player_id\", \"team\", \"opponent\", \"player_team_score\", \"opponent_score\", \"game_number\"]\n",
    "trim_df = game_df.drop(columns=bad_cols)\n",
    "trim_df = trim_df[(trim_df.iloc[:,2:] != 0).any(axis=1)]\n",
    "\n",
    "# convert game location and game won to 1s and 0s\n",
    "trim_df[\"game_location\"] = trim_df[\"game_location\"].map({\"A\":0, \"H\":1})\n",
    "trim_df[\"game_won\"] = trim_df[\"game_won\"].map({False:0, True:1})\n",
    "trim_df = trim_df.dropna()\n",
    "\n",
    "\n",
    "\n",
    "#isolate offense and defense data\n",
    "offense_cols = ['passing_attempts','passing_completions','passing_yards',\n",
    "            'passing_rating','passing_touchdowns','passing_interceptions',\n",
    "            'passing_sacks','passing_sacks_yards_lost','rushing_attempts',\n",
    "            'rushing_yards','rushing_touchdowns','receiving_targets',\n",
    "            'receiving_receptions','receiving_yards','receiving_touchdowns']\n",
    "\n",
    "defense_cols = ['defense_sacks', 'defense_tackles','defense_tackle_assists', 'defense_interceptions',\n",
    "            'defense_interception_yards','defense_interception_touchdowns','defense_safeties']\n",
    "\n",
    "special_teams = ['kick_return_attempts','kick_return_yards', 'kick_return_touchdowns',\n",
    "            'punt_return_attempts', 'punt_return_yards', 'punt_return_touchdowns', 'point_after_attemps','point_after_makes','field_goal_attempts',\n",
    "            'field_goal_makes','punting_attempts','punting_yards','punting_blocked']\n",
    "\n",
    "offense = trim_df[(trim_df[offense_cols] != 0).any(axis=1)]\n",
    "offense = offense.drop(columns=defense_cols+special_teams)\n",
    "defense = trim_df[(trim_df[defense_cols] != 0).any(axis=1)]\n",
    "defense = defense.drop(columns=offense_cols+special_teams)\n",
    "\n",
    "y_offense = offense['game_won']\n",
    "offense.drop(columns=[\"game_won\"],inplace=True)\n",
    "\n",
    "y_defense = defense['game_won']\n",
    "defense.drop(columns=[\"game_won\"],inplace=True)"
   ]
  },
  {
   "cell_type": "markdown",
   "id": "be41e409-0d10-4946-ad57-a9a2e6cd8d83",
   "metadata": {},
   "source": [
    "# RandomForest"
   ]
  },
  {
   "cell_type": "code",
   "execution_count": 61,
   "id": "3decddee-28d3-46d9-b3d4-feaa8c37260c",
   "metadata": {},
   "outputs": [
    {
     "name": "stdout",
     "output_type": "stream",
     "text": [
      "Offense:\n",
      "Train Accuracy: 0.8096342055945027\n",
      "Test Accuracy: 0.594536065300683\n",
      "Decision Tree\n",
      "Train Accuracy: 0.6347192337058375\n",
      "Test Accuracy: 0.6076406241323783\n",
      "Defense:\n",
      "Train Accuracy: 0.6042991525103575\n",
      "Test Accuracy: 0.5822797562081298\n",
      "Decision Tree\n",
      "Train Accuracy: 0.5960005540794097\n",
      "Test Accuracy: 0.5853523396967713\n"
     ]
    }
   ],
   "source": [
    "from sklearn.model_selection import train_test_split\n",
    "from sklearn.ensemble import RandomForestClassifier\n",
    "from sklearn.metrics import accuracy_score\n",
    "import numpy as np\n",
    "from sklearn import tree\n",
    "\n",
    "# Helper function to run RandomForest on a data.\n",
    "def RF(X, y):\n",
    "    # Split the data into training and testing sets\n",
    "    X_train, X_test, y_train, y_test = train_test_split(X, y, test_size=0.2, random_state=10)\n",
    "    \n",
    "    # Create a Random Forest Classifier\n",
    "    rf_classifier = RandomForestClassifier(random_state=10)\n",
    "\n",
    "    clf = tree.DecisionTreeClassifier(criterion='entropy', max_depth=11)\n",
    "    clf.fit(X_train, y_train)\n",
    "    \n",
    "    # Train the classifier on the training data\n",
    "    rf_classifier.fit(X_train, y_train)\n",
    "    \n",
    "    # Make predictions on the train data\n",
    "    train_pred = rf_classifier.predict(X_train)\n",
    "    \n",
    "    # Make predictions on the test data\n",
    "    y_pred = rf_classifier.predict(X_test)\n",
    "\n",
    "    dt_train_pred = clf.predict(X_train)\n",
    "    dt_test_pred = clf.predict(X_test)\n",
    "    \n",
    "    # Evaluate the accuracy of the model\n",
    "    accuracy = accuracy_score(y_train, train_pred)\n",
    "    print(f\"Train Accuracy: {accuracy}\")\n",
    "    \n",
    "    # Evaluate the accuracy of the model\n",
    "    accuracy = accuracy_score(y_test, y_pred)\n",
    "    print(f\"Test Accuracy: {accuracy}\")\n",
    "\n",
    "    print(\"Decision Tree\")\n",
    "    # Evaluate the accuracy of the model\n",
    "    accuracy = accuracy_score(y_train, dt_train_pred)\n",
    "    print(f\"Train Accuracy: {accuracy}\")\n",
    "    \n",
    "    # Evaluate the accuracy of the model\n",
    "    accuracy = accuracy_score(y_test, dt_test_pred)\n",
    "    print(f\"Test Accuracy: {accuracy}\")\n",
    "\n",
    "print(\"Offense:\")\n",
    "RF(offense.to_numpy(), y_offense)\n",
    "\n",
    "print(\"Defense:\")\n",
    "RF(defense.to_numpy(), y_defense)"
   ]
  },
  {
   "cell_type": "markdown",
   "id": "ef2463de-01a2-4626-9f73-77dfb98142c3",
   "metadata": {},
   "source": [
    "# Hyperparameter Testing"
   ]
  },
  {
   "cell_type": "code",
   "execution_count": 44,
   "id": "6f3a36dc-9568-44fe-a28a-ce5a98fc5e49",
   "metadata": {},
   "outputs": [
    {
     "name": "stdout",
     "output_type": "stream",
     "text": [
      "Offense:\n",
      "Best Hyperparameters: {'max_depth': None, 'max_leaf_nodes': 128, 'min_samples_leaf': 4, 'min_samples_split': 2, 'n_estimators': 500}\n",
      "Train Accuracy: 0.6308461164711598\n",
      "Test Accuracy: 0.6149147648398023\n",
      "Defense:\n",
      "Best Hyperparameters: {'max_depth': 10, 'max_leaf_nodes': 128, 'min_samples_leaf': 1, 'min_samples_split': 2, 'n_estimators': 500}\n",
      "Train Accuracy: 0.5939731271486318\n",
      "Test Accuracy: 0.5876693698685337\n"
     ]
    }
   ],
   "source": [
    "from sklearn.model_selection import GridSearchCV\n",
    "\n",
    "# Helper function to perform hyperparameter tuning on RandomForest\n",
    "def tune_RF(X, y):\n",
    "    # Split the data into training and testing sets\n",
    "    X_train, X_test, y_train, y_test = train_test_split(X, y, test_size=0.2, random_state=10)\n",
    "\n",
    "    # Create a Random Forest Classifier\n",
    "    rf_classifier = RandomForestClassifier(random_state=10)\n",
    "\n",
    "    # Define the hyperparameters and their possible values\n",
    "    param_grid = {\n",
    "        'n_estimators': [500],\n",
    "        'max_depth': [None, 10],\n",
    "        'max_leaf_nodes': [None, 128],\n",
    "        'min_samples_split': [2, 4, 8],\n",
    "        'min_samples_leaf': [1, 2, 4, 8]\n",
    "    }\n",
    "\n",
    "    # Use GridSearchCV to find the best combination of hyperparameters\n",
    "    grid_search = GridSearchCV(estimator=rf_classifier, param_grid=param_grid, cv=3, scoring='accuracy', n_jobs=-1)\n",
    "    grid_search.fit(X_train, y_train)\n",
    "\n",
    "    # Get the best hyperparameters\n",
    "    best_params = grid_search.best_params_\n",
    "    print(f\"Best Hyperparameters: {best_params}\")\n",
    "\n",
    "    # Train the classifier with the best hyperparameters on the training data\n",
    "    best_rf_classifier = RandomForestClassifier(**best_params, random_state=10)\n",
    "    best_rf_classifier.fit(X_train, y_train)\n",
    "\n",
    "    # Make predictions on the train data\n",
    "    train_pred = best_rf_classifier.predict(X_train)\n",
    "\n",
    "    # Make predictions on the test data\n",
    "    y_pred = best_rf_classifier.predict(X_test)\n",
    "\n",
    "    # Evaluate the accuracy of the model\n",
    "    accuracy_train = accuracy_score(y_train, train_pred)\n",
    "    print(f\"Train Accuracy: {accuracy_train}\")\n",
    "\n",
    "    # Evaluate the accuracy of the model on the test data\n",
    "    accuracy_test = accuracy_score(y_test, y_pred)\n",
    "    print(f\"Test Accuracy: {accuracy_test}\")\n",
    "\n",
    "# Example usage:\n",
    "print(\"Offense:\")\n",
    "tune_RF(offense.to_numpy(), y_offense)\n",
    "\n",
    "print(\"Defense:\")\n",
    "tune_RF(defense.to_numpy(), y_defense)"
   ]
  },
  {
   "cell_type": "markdown",
   "id": "7e3c820e-7b52-476f-80ba-59ff60eee33d",
   "metadata": {},
   "source": [
    "# Offense Model with Hyperparameters"
   ]
  },
  {
   "cell_type": "code",
   "execution_count": 62,
   "id": "e4997f81-a269-4e6f-8beb-eb3ceac1b370",
   "metadata": {},
   "outputs": [
    {
     "name": "stdout",
     "output_type": "stream",
     "text": [
      "Train Accuracy: 0.6355799264246547\n",
      "Test Accuracy: 0.6203009606307958\n"
     ]
    }
   ],
   "source": [
    "# Split the data into training and testing sets\n",
    "X_train, X_test, y_train, y_test = train_test_split(offense.to_numpy(), y_offense, test_size=0.2, random_state=10)\n",
    "\n",
    "# These params are based off the hyperparam. testing above\n",
    "off_rf = RandomForestClassifier(max_features=None, max_depth=None, max_leaf_nodes=128, n_estimators=500, random_state=10, min_samples_leaf=4, min_samples_split=2, criterion='gini')\n",
    "off_rf.fit(X_train, y_train)\n",
    "\n",
    "# Make predictions on the train data\n",
    "train_pred = off_rf.predict(X_train)\n",
    "\n",
    "# Make predictions on the test data\n",
    "y_pred = off_rf.predict(X_test)\n",
    "\n",
    "# Evaluate the accuracy of the model\n",
    "accuracy = accuracy_score(y_train, train_pred)\n",
    "print(f\"Train Accuracy: {accuracy}\")\n",
    "\n",
    "# Evaluate the accuracy of the model\n",
    "accuracy = accuracy_score(y_test, y_pred)\n",
    "print(f\"Test Accuracy: {accuracy}\")\n",
    "\n"
   ]
  },
  {
   "cell_type": "markdown",
   "id": "7e9b76cf-6615-4cff-a78a-bba525c4da2c",
   "metadata": {},
   "source": [
    "# Defense Model with Hyperparameters"
   ]
  },
  {
   "cell_type": "code",
   "execution_count": 64,
   "id": "d4b64a4e-a2f8-49d5-9d32-ee2b886fbf79",
   "metadata": {},
   "outputs": [
    {
     "name": "stdout",
     "output_type": "stream",
     "text": [
      "Train Accuracy: 0.5939479417209202\n",
      "Test Accuracy: 0.5866619654460283\n"
     ]
    }
   ],
   "source": [
    "# Split the data into training and testing sets\n",
    "X_train, X_test, y_train, y_test = train_test_split(defense.to_numpy(), y_defense, test_size=0.2, random_state=10)\n",
    "\n",
    "# These params are based off the hyperparam. testing above\n",
    "def_rf = RandomForestClassifier(max_features=None, max_depth=10, max_leaf_nodes=128, n_estimators=500, random_state=10, min_samples_leaf=1, min_samples_split=2)\n",
    "def_rf.fit(X_train, y_train)\n",
    "\n",
    "# Make predictions on the train data\n",
    "train_pred = def_rf.predict(X_train)\n",
    "\n",
    "# Make predictions on the test data\n",
    "y_pred = def_rf.predict(X_test)\n",
    "\n",
    "# Evaluate the accuracy of the model\n",
    "accuracy = accuracy_score(y_train, train_pred)\n",
    "print(f\"Train Accuracy: {accuracy}\")\n",
    "\n",
    "# Evaluate the accuracy of the model\n",
    "accuracy = accuracy_score(y_test, y_pred)\n",
    "print(f\"Test Accuracy: {accuracy}\")\n",
    "\n"
   ]
  },
  {
   "cell_type": "code",
   "execution_count": null,
   "id": "12a3813f-95a4-4186-89d9-14652c397922",
   "metadata": {},
   "outputs": [],
   "source": []
  }
 ],
 "metadata": {
  "kernelspec": {
   "display_name": "Python 3 (ipykernel)",
   "language": "python",
   "name": "python3"
  },
  "language_info": {
   "codemirror_mode": {
    "name": "ipython",
    "version": 3
   },
   "file_extension": ".py",
   "mimetype": "text/x-python",
   "name": "python",
   "nbconvert_exporter": "python",
   "pygments_lexer": "ipython3",
   "version": "3.11.6"
  }
 },
 "nbformat": 4,
 "nbformat_minor": 5
}
